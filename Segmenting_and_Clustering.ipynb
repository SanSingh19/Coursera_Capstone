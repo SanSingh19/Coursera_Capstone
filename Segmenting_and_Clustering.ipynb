{
  "nbformat": 4,
  "nbformat_minor": 0,
  "metadata": {
    "colab": {
      "name": "Segmenting and Clustering.ipynb",
      "version": "0.3.2",
      "provenance": [],
      "collapsed_sections": []
    },
    "kernelspec": {
      "name": "python3",
      "display_name": "Python 3"
    }
  },
  "cells": [
    {
      "cell_type": "markdown",
      "metadata": {
        "id": "3zKfger-Pf9n",
        "colab_type": "text"
      },
      "source": [
        "# Segmenting and Clustering Neighborhoods in **Toronto** -  `*explore and cluster the neighborhoods in Toronto*` \n",
        "\n",
        "Transform the data on Wiki page into pandas dataframe\n",
        "The dataframe will consists of the postal code of each neighborhood along with the borough name and neighborhood name"
      ]
    },
    {
      "cell_type": "code",
      "metadata": {
        "id": "wDWVr0kDS4AZ",
        "colab_type": "code",
        "colab": {}
      },
      "source": [
        "# Import Libraries\n",
        "\n",
        "from bs4 import BeautifulSoup\n",
        "import requests\n",
        "import pandas as pd\n",
        "from urllib.request import urlopen"
      ],
      "execution_count": 0,
      "outputs": []
    },
    {
      "cell_type": "code",
      "metadata": {
        "id": "EYCl6rpEPH3I",
        "colab_type": "code",
        "colab": {}
      },
      "source": [
        "\n",
        "# Wiki url data from internet\n",
        "url = \"https://en.wikipedia.org/wiki/List_of_postal_codes_of_Canada:_M\"\n",
        "\n",
        "source = urlopen(url).read().decode('utf-8')\n",
        "page = BeautifulSoup(source, 'html.parser')\n",
        "table = page.body.table.tbody"
      ],
      "execution_count": 0,
      "outputs": []
    },
    {
      "cell_type": "code",
      "metadata": {
        "id": "xqkpxHQGRu2x",
        "colab_type": "code",
        "colab": {}
      },
      "source": [
        "#functions for getting cell\n",
        "\n",
        "def table_cell(i):\n",
        "    cells = i.find_all('td')\n",
        "    cell_data = []\n",
        "    \n",
        "    for cell in cells:\n",
        "        if cell.a:            \n",
        "            if (cell.a.text):\n",
        "                cell_data.append(cell.a.text)\n",
        "                continue\n",
        "        cell_data.append(cell.string.strip())        \n",
        "    return cell_data\n",
        "  \n",
        "#functions for getting row data\n",
        "def table_row():    \n",
        "    row_data = []  \n",
        "    \n",
        "    for tr in table.find_all('tr'):\n",
        "        row = table_cell(tr)\n",
        "        if len(row) != 3:\n",
        "            continue\n",
        "        row_data.append(row)   \n",
        "    return row_data"
      ],
      "execution_count": 0,
      "outputs": []
    },
    {
      "cell_type": "code",
      "metadata": {
        "id": "XnlG8UA0SCru",
        "colab_type": "code",
        "outputId": "6b195e9d-e316-4095-dc98-44439038b3d5",
        "colab": {
          "base_uri": "https://localhost:8080/",
          "height": 204
        }
      },
      "source": [
        "#Creating pandas dataframe\n",
        "wiki_data = table_row()\n",
        "wiki_data_df = pd.DataFrame(wiki_data, columns=['Postcode', 'Borough', 'Neighbourhood'])\n",
        "wiki_data_df.head()"
      ],
      "execution_count": 0,
      "outputs": [
        {
          "output_type": "execute_result",
          "data": {
            "text/html": [
              "<div>\n",
              "<style scoped>\n",
              "    .dataframe tbody tr th:only-of-type {\n",
              "        vertical-align: middle;\n",
              "    }\n",
              "\n",
              "    .dataframe tbody tr th {\n",
              "        vertical-align: top;\n",
              "    }\n",
              "\n",
              "    .dataframe thead th {\n",
              "        text-align: right;\n",
              "    }\n",
              "</style>\n",
              "<table border=\"1\" class=\"dataframe\">\n",
              "  <thead>\n",
              "    <tr style=\"text-align: right;\">\n",
              "      <th></th>\n",
              "      <th>Postcode</th>\n",
              "      <th>Borough</th>\n",
              "      <th>Neighbourhood</th>\n",
              "    </tr>\n",
              "  </thead>\n",
              "  <tbody>\n",
              "    <tr>\n",
              "      <th>0</th>\n",
              "      <td>M1A</td>\n",
              "      <td>Not assigned</td>\n",
              "      <td>Not assigned</td>\n",
              "    </tr>\n",
              "    <tr>\n",
              "      <th>1</th>\n",
              "      <td>M2A</td>\n",
              "      <td>Not assigned</td>\n",
              "      <td>Not assigned</td>\n",
              "    </tr>\n",
              "    <tr>\n",
              "      <th>2</th>\n",
              "      <td>M3A</td>\n",
              "      <td>North York</td>\n",
              "      <td>Parkwoods</td>\n",
              "    </tr>\n",
              "    <tr>\n",
              "      <th>3</th>\n",
              "      <td>M4A</td>\n",
              "      <td>North York</td>\n",
              "      <td>Victoria Village</td>\n",
              "    </tr>\n",
              "    <tr>\n",
              "      <th>4</th>\n",
              "      <td>M5A</td>\n",
              "      <td>Downtown Toronto</td>\n",
              "      <td>Harbourfront</td>\n",
              "    </tr>\n",
              "  </tbody>\n",
              "</table>\n",
              "</div>"
            ],
            "text/plain": [
              "  Postcode           Borough     Neighbourhood\n",
              "0      M1A      Not assigned      Not assigned\n",
              "1      M2A      Not assigned      Not assigned\n",
              "2      M3A        North York         Parkwoods\n",
              "3      M4A        North York  Victoria Village\n",
              "4      M5A  Downtown Toronto      Harbourfront"
            ]
          },
          "metadata": {
            "tags": []
          },
          "execution_count": 13
        }
      ]
    },
    {
      "cell_type": "markdown",
      "metadata": {
        "id": "-KzLLCVXUiHf",
        "colab_type": "text"
      },
      "source": [
        "# `***Cleaning the Data Frame***`\n",
        "\n",
        "\n",
        ">  Ignore cells with a borough that is Not assigned\n",
        "\n"
      ]
    },
    {
      "cell_type": "code",
      "metadata": {
        "id": "g8IJHtNvUyZu",
        "colab_type": "code",
        "outputId": "52d54109-8293-47f6-bec9-92bc72620765",
        "colab": {
          "base_uri": "https://localhost:8080/",
          "height": 204
        }
      },
      "source": [
        "#dropping the \"Not Assigned\" \n",
        "clean_wiki_df = wiki_data_df[wiki_data_df.Borough != 'Not assigned']\n",
        "clean_wiki_df = clean_wiki_df.sort_values(by=['Postcode','Borough'])\n",
        "\n",
        "clean_wiki_df.reset_index(inplace=True)\n",
        "clean_wiki_df.drop('index',axis=1,inplace=True)\n",
        "clean_wiki_df.head()"
      ],
      "execution_count": 0,
      "outputs": [
        {
          "output_type": "execute_result",
          "data": {
            "text/html": [
              "<div>\n",
              "<style scoped>\n",
              "    .dataframe tbody tr th:only-of-type {\n",
              "        vertical-align: middle;\n",
              "    }\n",
              "\n",
              "    .dataframe tbody tr th {\n",
              "        vertical-align: top;\n",
              "    }\n",
              "\n",
              "    .dataframe thead th {\n",
              "        text-align: right;\n",
              "    }\n",
              "</style>\n",
              "<table border=\"1\" class=\"dataframe\">\n",
              "  <thead>\n",
              "    <tr style=\"text-align: right;\">\n",
              "      <th></th>\n",
              "      <th>Postcode</th>\n",
              "      <th>Borough</th>\n",
              "      <th>Neighbourhood</th>\n",
              "    </tr>\n",
              "  </thead>\n",
              "  <tbody>\n",
              "    <tr>\n",
              "      <th>0</th>\n",
              "      <td>M1B</td>\n",
              "      <td>Scarborough</td>\n",
              "      <td>Rouge</td>\n",
              "    </tr>\n",
              "    <tr>\n",
              "      <th>1</th>\n",
              "      <td>M1B</td>\n",
              "      <td>Scarborough</td>\n",
              "      <td>Malvern</td>\n",
              "    </tr>\n",
              "    <tr>\n",
              "      <th>2</th>\n",
              "      <td>M1C</td>\n",
              "      <td>Scarborough</td>\n",
              "      <td>Highland Creek</td>\n",
              "    </tr>\n",
              "    <tr>\n",
              "      <th>3</th>\n",
              "      <td>M1C</td>\n",
              "      <td>Scarborough</td>\n",
              "      <td>Rouge Hill</td>\n",
              "    </tr>\n",
              "    <tr>\n",
              "      <th>4</th>\n",
              "      <td>M1C</td>\n",
              "      <td>Scarborough</td>\n",
              "      <td>Port Union</td>\n",
              "    </tr>\n",
              "  </tbody>\n",
              "</table>\n",
              "</div>"
            ],
            "text/plain": [
              "  Postcode      Borough   Neighbourhood\n",
              "0      M1B  Scarborough           Rouge\n",
              "1      M1B  Scarborough         Malvern\n",
              "2      M1C  Scarborough  Highland Creek\n",
              "3      M1C  Scarborough      Rouge Hill\n",
              "4      M1C  Scarborough      Port Union"
            ]
          },
          "metadata": {
            "tags": []
          },
          "execution_count": 14
        }
      ]
    },
    {
      "cell_type": "markdown",
      "metadata": {
        "id": "CWIFmcJWVSBh",
        "colab_type": "text"
      },
      "source": [
        "\n",
        "\n",
        "> `More than one neighborhood can exist in one postal code area.Then two rows will be combined into one row with the neighborhoods separated with a comma `\n",
        "\n"
      ]
    },
    {
      "cell_type": "code",
      "metadata": {
        "id": "F2hYOHYwVgpA",
        "colab_type": "code",
        "outputId": "faa4e93a-7296-458f-ea3b-8cb84ea3f279",
        "colab": {
          "base_uri": "https://localhost:8080/",
          "height": 204
        }
      },
      "source": [
        "#Grouping the neighbourhoods that share the postcode as comma separater\n",
        "\n",
        "df_postcodes = clean_wiki_df['Postcode']\n",
        "df_postcodes.drop_duplicates(inplace=True)\n",
        "df2 = pd.DataFrame(df_postcodes)\n",
        "df2['Borough'] = '';\n",
        "df2['Neighbourhood'] = '';\n",
        "\n",
        "\n",
        "df2.reset_index(inplace=True)\n",
        "df2.drop('index', axis=1, inplace=True)\n",
        "clean_wiki_df.reset_index(inplace=True)\n",
        "clean_wiki_df.drop('index', axis=1, inplace=True)\n",
        "\n",
        "for i in df2.index:\n",
        "    for j in clean_wiki_df.index:\n",
        "        if df2.iloc[i, 0] == clean_wiki_df.iloc[j, 0]:\n",
        "            df2.iloc[i, 1] = clean_wiki_df.iloc[j, 1]\n",
        "            df2.iloc[i, 2] = df2.iloc[i, 2] + ',' + clean_wiki_df.iloc[j, 2]\n",
        "            \n",
        "for i in df2.index:\n",
        "    s = df2.iloc[i, 2]\n",
        "    if s[0] == ',':\n",
        "        s =s [1:]\n",
        "    df2.iloc[i,2 ] = s\n",
        "    \n",
        "df2.head()"
      ],
      "execution_count": 0,
      "outputs": [
        {
          "output_type": "execute_result",
          "data": {
            "text/html": [
              "<div>\n",
              "<style scoped>\n",
              "    .dataframe tbody tr th:only-of-type {\n",
              "        vertical-align: middle;\n",
              "    }\n",
              "\n",
              "    .dataframe tbody tr th {\n",
              "        vertical-align: top;\n",
              "    }\n",
              "\n",
              "    .dataframe thead th {\n",
              "        text-align: right;\n",
              "    }\n",
              "</style>\n",
              "<table border=\"1\" class=\"dataframe\">\n",
              "  <thead>\n",
              "    <tr style=\"text-align: right;\">\n",
              "      <th></th>\n",
              "      <th>Postcode</th>\n",
              "      <th>Borough</th>\n",
              "      <th>Neighbourhood</th>\n",
              "    </tr>\n",
              "  </thead>\n",
              "  <tbody>\n",
              "    <tr>\n",
              "      <th>0</th>\n",
              "      <td>M1B</td>\n",
              "      <td>Scarborough</td>\n",
              "      <td>Rouge,Malvern</td>\n",
              "    </tr>\n",
              "    <tr>\n",
              "      <th>1</th>\n",
              "      <td>M1C</td>\n",
              "      <td>Scarborough</td>\n",
              "      <td>Highland Creek,Rouge Hill,Port Union</td>\n",
              "    </tr>\n",
              "    <tr>\n",
              "      <th>2</th>\n",
              "      <td>M1E</td>\n",
              "      <td>Scarborough</td>\n",
              "      <td>Guildwood,Morningside,West Hill</td>\n",
              "    </tr>\n",
              "    <tr>\n",
              "      <th>3</th>\n",
              "      <td>M1G</td>\n",
              "      <td>Scarborough</td>\n",
              "      <td>Woburn</td>\n",
              "    </tr>\n",
              "    <tr>\n",
              "      <th>4</th>\n",
              "      <td>M1H</td>\n",
              "      <td>Scarborough</td>\n",
              "      <td>Cedarbrae</td>\n",
              "    </tr>\n",
              "  </tbody>\n",
              "</table>\n",
              "</div>"
            ],
            "text/plain": [
              "  Postcode      Borough                         Neighbourhood\n",
              "0      M1B  Scarborough                         Rouge,Malvern\n",
              "1      M1C  Scarborough  Highland Creek,Rouge Hill,Port Union\n",
              "2      M1E  Scarborough       Guildwood,Morningside,West Hill\n",
              "3      M1G  Scarborough                                Woburn\n",
              "4      M1H  Scarborough                             Cedarbrae"
            ]
          },
          "metadata": {
            "tags": []
          },
          "execution_count": 20
        }
      ]
    },
    {
      "cell_type": "code",
      "metadata": {
        "id": "nsnBclFYk2xP",
        "colab_type": "code",
        "colab": {}
      },
      "source": [
        ""
      ],
      "execution_count": 0,
      "outputs": []
    },
    {
      "cell_type": "markdown",
      "metadata": {
        "id": "obDKZ34UWJfP",
        "colab_type": "text"
      },
      "source": [
        "\n",
        "\n",
        "> *`use the .shape method to print the number of rows of your dataframe.`*\n",
        "\n"
      ]
    },
    {
      "cell_type": "code",
      "metadata": {
        "id": "X0OhN4-MWQgE",
        "colab_type": "code",
        "colab": {}
      },
      "source": [
        "# the number of rows in data frame\n",
        "df2.shape\n",
        "\n",
        "\n",
        "\n"
      ],
      "execution_count": 0,
      "outputs": []
    },
    {
      "cell_type": "code",
      "metadata": {
        "id": "juG4nSSG9c2C",
        "colab_type": "code",
        "colab": {}
      },
      "source": [
        "# Writing Data Frame into .CSV file to perform another assignment of this module\n",
        "\n",
        "from google.colab import files\n",
        "df2.to_csv('Toronto_DataFrame.csv', index=False, header=True) \n",
        "files.download('Toronto_DataFrame.csv')"
      ],
      "execution_count": 0,
      "outputs": []
    }
  ]
}