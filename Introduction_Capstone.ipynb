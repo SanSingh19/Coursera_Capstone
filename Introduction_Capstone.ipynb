{
  "nbformat": 4,
  "nbformat_minor": 0,
  "metadata": {
    "colab": {
      "name": "Coursera_Capstone.ipynb",
      "version": "0.3.2",
      "provenance": [],
      "collapsed_sections": []
    },
    "kernelspec": {
      "name": "python3",
      "display_name": "Python 3"
    }
  },
  "cells": [
    {
      "cell_type": "markdown",
      "metadata": {
        "id": "slJFkQJeSJFg",
        "colab_type": "text"
      },
      "source": [
        "Created this notebook to complete **Capstone Proje**ct listed in *Course -9* of **Course**ra"
      ]
    },
    {
      "cell_type": "code",
      "metadata": {
        "id": "Dw53S-jSR9hT",
        "colab_type": "code",
        "colab": {
          "base_uri": "https://localhost:8080/",
          "height": 34
        },
        "outputId": "32362916-e48b-4c73-974f-316904865ffa"
      },
      "source": [
        "import pandas as pd\n",
        "import numpy as np\n",
        "print('Hello Capstone Project Course!')"
      ],
      "execution_count": 1,
      "outputs": [
        {
          "output_type": "stream",
          "text": [
            "Hello Capstone Project Course!\n"
          ],
          "name": "stdout"
        }
      ]
    },
    {
      "cell_type": "markdown",
      "metadata": {
        "id": "qWuz1FUzSD5S",
        "colab_type": "text"
      },
      "source": [
        ""
      ]
    }
  ]
}